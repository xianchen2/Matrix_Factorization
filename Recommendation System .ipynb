{
 "cells": [
  {
   "cell_type": "code",
   "execution_count": 1,
   "metadata": {},
   "outputs": [],
   "source": [
    "from numpy import *\n",
    "import pandas as pd"
   ]
  },
  {
   "cell_type": "markdown",
   "metadata": {},
   "source": [
    "# SVD++"
   ]
  },
  {
   "cell_type": "code",
   "execution_count": 2,
   "metadata": {},
   "outputs": [],
   "source": [
    "def gradAscent(data,K,alpha,beta,maxCycles):\n",
    "    '''\n",
    "    data: user-item rating matrix\n",
    "    K: the number of features (assume smaller than the no. of user and items)\n",
    "    alpha: learning rate\n",
    "    beta: regularization parameter\n",
    "    maxCycles: no. of iterations\n",
    "    '''\n",
    "    R=mat(data)\n",
    "    m,n=shape(R)\n",
    "    \n",
    "#   initialize user and item latent feature matrix\n",
    "    p=mat(random.random((m,K)))\n",
    "    q=mat(random.random((K,n)))\n",
    "    \n",
    "#   initialize the bisases\n",
    "    bu=zeros(m)\n",
    "    bd=zeros(n)\n",
    "    b=mean(R[where(R!=0)])\n",
    "    \n",
    "#   gradient descent\n",
    "    ls=[]\n",
    "    for step in range(maxCycles):\n",
    "        for i in range(m):\n",
    "            for j in range(n):\n",
    "                if R[i,j] >0:\n",
    "                    r=R[i,j]\n",
    "                    pq=0.0\n",
    "                    for k in range(K):\n",
    "                        pq+=p[i,k]*q[k,j]\n",
    "                    e = r-b-bu[i]-bd[j]-pq\n",
    "#                   Update user and item latent feature matrix\n",
    "                    bu[i] = bu[i] + alpha*(2*e-beta*bu[i])\n",
    "                    bd[j] = bd[j] + alpha*(2*e-beta*bd[j])\n",
    "#                   Update biases\n",
    "                    for k in range(K):\n",
    "                        p[i,k] += alpha*(2*e*q[k,j]-beta*p[i,k])\n",
    "                        q[k,j] += alpha*(2*e*p[i,k]-beta*q[k,j])    \n",
    "\n",
    "#       calculate loss         \n",
    "        loss=0.0\n",
    "        for i in range(m):\n",
    "            for j in range(n):\n",
    "                bb=0.0\n",
    "                dd=0.0\n",
    "                pq2=0.0\n",
    "                pq=0\n",
    "                if R[i,j] > 0:\n",
    "                    r=R[i,j]\n",
    "                    bb +=bu[i]**2\n",
    "                    dd +=bd[j]**2\n",
    "                    for k in range(K):\n",
    "                        pq2 +=p[i,k]**2+q[k,j]**2\n",
    "                        pq +=p[i,k]*q[k,j]\n",
    "                    \n",
    "                    loss=(r-b-bu[i]-bd[j]-pq)**2+beta*(bb+dd+pq2)/2\n",
    "\n",
    "        ls.append(loss)\n",
    "\n",
    "        if loss<0.0001:\n",
    "            break\n",
    "        if step %1000==0:\n",
    "            print(loss)\n",
    "    \n",
    "    return p,q,b,bu,bd,ls"
   ]
  },
  {
   "cell_type": "code",
   "execution_count": 3,
   "metadata": {
    "scrolled": true
   },
   "outputs": [],
   "source": [
    "# test on a small sample set\n",
    "R = mat([\n",
    "    [5, 3, 0, 1],\n",
    "    [4, 0, 0, 1],\n",
    "    [1, 1, 0, 5],\n",
    "    [1, 0, 0, 4],\n",
    "    [0, 1, 5, 4]])\n"
   ]
  },
  {
   "cell_type": "code",
   "execution_count": 4,
   "metadata": {
    "scrolled": true
   },
   "outputs": [
    {
     "name": "stdout",
     "output_type": "stream",
     "text": [
      "0.856523276163\n",
      "0.0875302625331\n",
      "0.0524067385546\n",
      "0.0530254037105\n",
      "0.052268654279\n",
      "0.0521082435059\n",
      "0.0520507254201\n",
      "0.0519239481276\n",
      "0.0517095163844\n",
      "0.0514249544425\n",
      "[[ 4.98595827  2.99234488  3.62115856  1.0156667 ]\n",
      " [ 3.99325266  2.18754982  3.23347954  1.01275902]\n",
      " [ 1.02102858  0.98361577  5.41321644  4.98486837]\n",
      " [ 1.00130492  0.71038106  4.68801997  3.98955391]\n",
      " [ 1.5303263   1.0352638   4.98624638  3.9956678 ]]\n"
     ]
    }
   ],
   "source": [
    "if __name__ == \"__main__\":\n",
    "    p, q, b, bu, bd, ls = gradAscent(R,3,0.0002,0.02,10000)\n",
    "    \n",
    "    m,n=shape(R)\n",
    "    \n",
    "    bu=list(bu.reshape(m,1))\n",
    "    bu=broadcast_to(bu,(m,n))\n",
    "    \n",
    "    bd=broadcast_to(bd,(m,n))\n",
    "    \n",
    "    result = b+bu+bd+p*q\n",
    "    \n",
    "    print(result)"
   ]
  },
  {
   "cell_type": "code",
   "execution_count": 5,
   "metadata": {
    "scrolled": false
   },
   "outputs": [
    {
     "data": {
      "text/plain": [
       "<matplotlib.text.Text at 0x11a5e22e8>"
      ]
     },
     "execution_count": 5,
     "metadata": {},
     "output_type": "execute_result"
    },
    {
     "data": {
      "image/png": "[encoded data removed]",
      "text/plain": [
       "<matplotlib.figure.Figure at 0x111572a58>"
      ]
     },
     "metadata": {},
     "output_type": "display_data"
    }
   ],
   "source": [
    "# Check Convergence \n",
    "import matplotlib.pyplot as plt\n",
    "%matplotlib inline\n",
    "\n",
    "plt.plot(range(len(ls)), ls, color='r',linewidth=3)\n",
    "plt.title('Convergence curve')\n",
    "plt.xlabel('iteraton')\n",
    "plt.ylabel('loss')\n"
   ]
  },
  {
   "cell_type": "markdown",
   "metadata": {},
   "source": [
    "# Moive Recommder System based on SVD++"
   ]
  },
  {
   "cell_type": "markdown",
   "metadata": {},
   "source": [
    "This data set contains 100,000 ratings (1-5) from 943 users on 1682 movies. The data was collected through the MovieLens web site (movielens.umn.edu) during the seven-month period from September 19th, 1997 through April 22nd, 1998. Source URL: https://grouplens.org/datasets/movielens/100k/"
   ]
  },
  {
   "cell_type": "code",
   "execution_count": 3,
   "metadata": {},
   "outputs": [],
   "source": [
    "from surprise import SVDpp\n",
    "from surprise import Dataset\n",
    "from surprise.model_selection import cross_validate"
   ]
  },
  {
   "cell_type": "code",
   "execution_count": 4,
   "metadata": {},
   "outputs": [
    {
     "name": "stdout",
     "output_type": "stream",
     "text": [
      "Dataset ml-100k could not be found. Do you want to download it? [Y/n] y\n",
      "Trying to download dataset from http://files.grouplens.org/datasets/movielens/ml-100k.zip...\n",
      "Done! Dataset ml-100k has been saved to /Users/chenxian/.surprise_data/ml-100k\n"
     ]
    }
   ],
   "source": [
    "data = Dataset.load_builtin('ml-100k')"
   ]
  },
  {
   "cell_type": "code",
   "execution_count": 8,
   "metadata": {},
   "outputs": [],
   "source": [
    "algo = SVDpp()"
   ]
  },
  {
   "cell_type": "code",
   "execution_count": 10,
   "metadata": {},
   "outputs": [
    {
     "name": "stdout",
     "output_type": "stream",
     "text": [
      "Evaluating RMSE, MAE of algorithm SVDpp on 5 split(s).\n",
      "\n",
      "                  Fold 1  Fold 2  Fold 3  Fold 4  Fold 5  Mean    Std     \n",
      "RMSE (testset)    0.9238  0.9154  0.9257  0.9207  0.9130  0.9197  0.0048  \n",
      "MAE (testset)     0.7268  0.7222  0.7258  0.7200  0.7179  0.7225  0.0033  \n",
      "Fit time          239.69  232.94  224.31  231.68  258.98  237.52  11.79   \n",
      "Test time         3.85    3.88    3.46    3.69    3.79    3.73    0.15    \n"
     ]
    },
    {
     "data": {
      "text/plain": [
       "{'fit_time': (239.69034695625305,\n",
       "  232.93804383277893,\n",
       "  224.30923509597778,\n",
       "  231.67732906341553,\n",
       "  258.9827971458435),\n",
       " 'test_mae': array([ 0.72678327,  0.72218598,  0.72575526,  0.72003387,  0.71792656]),\n",
       " 'test_rmse': array([ 0.92379001,  0.91542607,  0.92566785,  0.92073923,  0.9130041 ]),\n",
       " 'test_time': (3.846879005432129,\n",
       "  3.8829410076141357,\n",
       "  3.461089849472046,\n",
       "  3.692612886428833,\n",
       "  3.7882609367370605)}"
      ]
     },
     "execution_count": 10,
     "metadata": {},
     "output_type": "execute_result"
    }
   ],
   "source": [
    "cross_validate(algo,data,measures=['RMSE','MAE'], cv = 5, verbose = True)"
   ]
  },
  {
   "cell_type": "code",
   "execution_count": 11,
   "metadata": {},
   "outputs": [],
   "source": [
    "from surprise import accuracy\n",
    "from surprise.model_selection import train_test_split"
   ]
  },
  {
   "cell_type": "code",
   "execution_count": 12,
   "metadata": {},
   "outputs": [
    {
     "name": "stdout",
     "output_type": "stream",
     "text": [
      "RMSE: 0.9234\n"
     ]
    },
    {
     "data": {
      "text/plain": [
       "0.92335218625386495"
      ]
     },
     "execution_count": 12,
     "metadata": {},
     "output_type": "execute_result"
    }
   ],
   "source": [
    "#split traning and testing set (25%)\n",
    "trainset, testset = train_test_split(data, test_size = 0.25)\n",
    "\n",
    "#train SVD++ on the training set and predict ratings for the testing set\n",
    "predictions = algo.fit(trainset).test(testset)\n",
    "\n",
    "#compute RMSE\n",
    "accuracy.rmse(predictions)"
   ]
  },
  {
   "cell_type": "markdown",
   "metadata": {},
   "source": [
    "# SVD"
   ]
  },
  {
   "cell_type": "code",
   "execution_count": 12,
   "metadata": {},
   "outputs": [],
   "source": [
    "def gradAscent2(data, K,alpha,beta,maxCycles):\n",
    "    '''\n",
    "    data: user-item rating matrix\n",
    "    K: the number of latent dimensions \n",
    "    alpha: learning rate\n",
    "    beta: regularization parameter\n",
    "    maxCycles: no. of iterations\n",
    "    '''\n",
    "    dataMat = mat(data)\n",
    "    m, n = shape(dataMat)\n",
    "    p = mat(random.random((m, K)))\n",
    "    q = mat(random.random((K, n)))\n",
    "\n",
    "    ls=[]\n",
    "    for step in range(maxCycles):\n",
    "        for i in range(m):\n",
    "            for j in range(n):\n",
    "                if dataMat[i,j] > 0:\n",
    "                    error = dataMat[i,j]\n",
    "                    for k in range(K):\n",
    "                        error = error - p[i,k]*q[k,j]\n",
    "                    for k in range(K):\n",
    "                        p[i,k] = p[i,k] + alpha * (2 * error * q[k,j] - beta * p[i,k])\n",
    "                        q[k,j] = q[k,j] + alpha * (2 * error * p[i,k] - beta * q[k,j])\n",
    "\n",
    "        loss = 0.0\n",
    "        for i in range(m):\n",
    "            for j in range(n):\n",
    "                if dataMat[i,j] > 0:\n",
    "                    error = 0.0\n",
    "                    for k in range(K):\n",
    "                        error = error + p[i,k]*q[k,j]\n",
    "                    loss = (dataMat[i,j] - error) * (dataMat[i,j] - error)\n",
    "                    for k in range(K):\n",
    "                        loss = loss + beta * (p[i,k] * p[i,k] + q[k,j] * q[k,j]) / 2\n",
    "        \n",
    "        ls.append(loss)\n",
    "        \n",
    "        if loss < 0.001:\n",
    "            break\n",
    "        \n",
    "        if step % 1000 == 0:\n",
    "            print (loss)\n",
    "\n",
    "    return p, q, ls\n"
   ]
  },
  {
   "cell_type": "code",
   "execution_count": 13,
   "metadata": {},
   "outputs": [
    {
     "name": "stdout",
     "output_type": "stream",
     "text": [
      "10.2481523434\n",
      "0.113763832946\n",
      "0.10484625791\n",
      "0.101993644909\n",
      "0.100610463125\n",
      "0.0998412596373\n",
      "0.0993424134791\n",
      "0.0989453915735\n",
      "0.0985898714034\n",
      "0.098256509064\n",
      "[[ 4.97781815  2.98142358  4.61777884  1.00281913]\n",
      " [ 3.98185777  2.4891703   3.58797606  1.00091279]\n",
      " [ 1.00505184  0.98795238  3.82224815  4.97036883]\n",
      " [ 0.9976844   0.66753871  3.82432313  3.98328448]\n",
      " [ 1.8845386   1.01259227  4.9836503   3.98857821]]\n"
     ]
    }
   ],
   "source": [
    "if __name__ == \"__main__\":\n",
    "    '''\n",
    "    test the model on a small sample set\n",
    "    '''\n",
    "    p, q, ls= gradAscent2(R,3,alpha = 0.0002,beta = 0.02,10000) #alpha: learning rate, beta: regularization parameter\n",
    "    result = p*q\n",
    "    print(result)"
   ]
  },
  {
   "cell_type": "code",
   "execution_count": 14,
   "metadata": {},
   "outputs": [
    {
     "data": {
      "text/plain": [
       "<matplotlib.text.Text at 0x11b20f898>"
      ]
     },
     "execution_count": 14,
     "metadata": {},
     "output_type": "execute_result"
    },
    {
     "data": {
      "image/png": "[encoded data removed]",
      "text/plain": [
       "<matplotlib.figure.Figure at 0x11a66a2e8>"
      ]
     },
     "metadata": {},
     "output_type": "display_data"
    }
   ],
   "source": [
    "# check convergence\n",
    "import matplotlib.pyplot as plt\n",
    "import numpy as np\n",
    "%matplotlib inline\n",
    "\n",
    "plt.plot(range(len(ls)), ls, color='r',linewidth=3)\n",
    "plt.title('Convergence curve')\n",
    "plt.xlabel('generation')\n",
    "plt.ylabel('loss')"
   ]
  }
 ],
 "metadata": {
  "kernelspec": {
   "display_name": "Python 3",
   "language": "python",
   "name": "python3"
  },
  "language_info": {
   "codemirror_mode": {
    "name": "ipython",
    "version": 3
   },
   "file_extension": ".py",
   "mimetype": "text/x-python",
   "name": "python",
   "nbconvert_exporter": "python",
   "pygments_lexer": "ipython3",
   "version": "3.5.1"
  }
 },
 "nbformat": 4,
 "nbformat_minor": 2
}
