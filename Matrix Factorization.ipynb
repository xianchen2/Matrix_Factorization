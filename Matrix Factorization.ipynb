{
 "cells": [
  {
   "cell_type": "code",
   "execution_count": 1,
   "metadata": {},
   "outputs": [],
   "source": [
    "from numpy import *"
   ]
  },
  {
   "cell_type": "markdown",
   "metadata": {},
   "source": [
    "# with the biases"
   ]
  },
  {
   "cell_type": "code",
   "execution_count": 2,
   "metadata": {},
   "outputs": [],
   "source": [
    "def gradAscent(data,K):\n",
    "    R=mat(data)\n",
    "    m,n=shape(R)\n",
    "    \n",
    "#     initialize user and item latent feature matrix\n",
    "    p=mat(random.random((m,K)))\n",
    "    q=mat(random.random((K,n)))\n",
    "    \n",
    "#     initialize the bisases\n",
    "    bu=zeros(m)\n",
    "    bd=zeros(n)\n",
    "    b=mean(R[where(R!=0)])\n",
    "    \n",
    "#     initialize parameter\n",
    "    maxCycles=10000\n",
    "    beta=0.02\n",
    "    alpha=0.0001\n",
    "    \n",
    "    ls=[]\n",
    "    for step in range(maxCycles):\n",
    "        for i in range(m):\n",
    "            for j in range(n):\n",
    "                if R[i,j] >0:\n",
    "                    r=R[i,j]\n",
    "                    pq=0.0\n",
    "                    \n",
    "                    for k in range(K):\n",
    "                        pq+=p[i,k]*q[k,j]\n",
    "                    e = r-b-bu[i]-bd[j]-pq\n",
    "                    bu[i] = bu[i] + alpha*(2*e-beta*bu[i])\n",
    "                    bd[j] = bd[j] + alpha*(2*e-beta*bd[j])\n",
    "\n",
    "                    for k in range(K):\n",
    "                        p[i,k] += alpha*(2*e*q[k,j]-beta*p[i,k])\n",
    "                        q[k,j] += alpha*(2*e*p[i,k]-beta*q[k,j])    \n",
    "                        \n",
    "        loss=0.0\n",
    "        for i in range(m):\n",
    "            for j in range(n):\n",
    "                bb=0.0\n",
    "                dd=0.0\n",
    "                pq2=0.0\n",
    "                pq=0\n",
    "                if R[i,j] > 0:\n",
    "                    r=R[i,j]\n",
    "                    bb +=bu[i]**2\n",
    "                    dd +=bd[j]**2\n",
    "                    for k in range(K):\n",
    "                        pq2 +=p[i,k]**2+q[k,j]**2\n",
    "                        pq +=p[i,k]*q[k,j]\n",
    "                    \n",
    "                    loss=(r-b-bu[i]-bd[j]-pq)**2+beta*(bb+dd+pq2)/2\n",
    "\n",
    "        ls.append(loss)\n",
    "\n",
    "        if loss<0.0001:\n",
    "            break\n",
    "        if step %1000==0:\n",
    "            print(loss)\n",
    "    \n",
    "    return p,q,b,bu,bd,ls"
   ]
  },
  {
   "cell_type": "code",
   "execution_count": 3,
   "metadata": {},
   "outputs": [],
   "source": [
    "R = mat([\n",
    "    [5, 3, 0, 1],\n",
    "    [4, 0, 0, 1],\n",
    "    [1, 1, 0, 5],\n",
    "    [1, 0, 0, 4],\n",
    "    [0, 1, 5, 4],\n",
    "])\n"
   ]
  },
  {
   "cell_type": "code",
   "execution_count": 4,
   "metadata": {},
   "outputs": [
    {
     "name": "stdout",
     "output_type": "stream",
     "text": [
      "0.204220684899\n",
      "0.477985300398\n",
      "0.241854613647\n",
      "0.0566448920573\n",
      "0.0428440821019\n",
      "0.0460299309395\n",
      "0.0461243207874\n",
      "0.0457571277923\n",
      "0.0455011806932\n",
      "0.0453576748435\n",
      "[[ 4.99473383  2.97601055  4.51240911  1.01492472]\n",
      " [ 3.98442912  2.12100657  3.99240634  1.0062682 ]\n",
      " [ 1.02444967  0.96440923  4.49198645  4.97698091]\n",
      " [ 1.00639307  0.99531179  3.20899091  3.9906479 ]\n",
      " [ 2.54176072  1.06790721  4.97098104  4.00317136]]\n"
     ]
    }
   ],
   "source": [
    "if __name__ == \"__main__\":\n",
    "    p, q, b, bu, bd, ls = gradAscent(R, 3)\n",
    "    \n",
    "    m,n=shape(R)\n",
    "    \n",
    "    bu=list(bu.reshape(m,1))\n",
    "    bu=broadcast_to(bu,(m,n))\n",
    "    \n",
    "    bd=broadcast_to(bd,(m,n))\n",
    "    \n",
    "    result = b+bu+bd+p*q\n",
    "    \n",
    "    print(result)"
   ]
  },
  {
   "cell_type": "code",
   "execution_count": 5,
   "metadata": {
    "scrolled": false
   },
   "outputs": [
    {
     "data": {
      "text/plain": [
       "<matplotlib.text.Text at 0x1196ed2b0>"
      ]
     },
     "execution_count": 5,
     "metadata": {},
     "output_type": "execute_result"
    },
    {
     "data": {
      "image/png": "[encoded data removed]",
      "text/plain": [
       "<matplotlib.figure.Figure at 0x1076ac390>"
      ]
     },
     "metadata": {},
     "output_type": "display_data"
    }
   ],
   "source": [
    "import matplotlib.pyplot as plt\n",
    "import numpy as np\n",
    "%matplotlib inline\n",
    "\n",
    "n=len(ls)\n",
    "x=range(n)\n",
    "plt.plot(x, ls, color='r',linewidth=3)\n",
    "plt.title('Convergence curve')\n",
    "plt.xlabel('generation')\n",
    "plt.ylabel('loss')\n"
   ]
  },
  {
   "cell_type": "markdown",
   "metadata": {},
   "source": [
    "# without the biases"
   ]
  },
  {
   "cell_type": "code",
   "execution_count": 6,
   "metadata": {},
   "outputs": [],
   "source": [
    "def gradAscent(data, K):\n",
    "    dataMat = mat(data)\n",
    "    m, n = shape(dataMat)\n",
    "    p = mat(random.random((m, K)))\n",
    "    q = mat(random.random((K, n)))\n",
    "\n",
    "    alpha = 0.0002\n",
    "    beta = 0.02\n",
    "    maxCycles = 10000\n",
    "    \n",
    "    ls=[]\n",
    "    for step in range(maxCycles):\n",
    "        for i in range(m):\n",
    "            for j in range(n):\n",
    "                if dataMat[i,j] > 0:\n",
    "                    error = dataMat[i,j]\n",
    "                    for k in range(K):\n",
    "                        error = error - p[i,k]*q[k,j]\n",
    "                    for k in range(K):\n",
    "                        p[i,k] = p[i,k] + alpha * (2 * error * q[k,j] - beta * p[i,k])\n",
    "                        q[k,j] = q[k,j] + alpha * (2 * error * p[i,k] - beta * q[k,j])\n",
    "\n",
    "        loss = 0.0\n",
    "        for i in range(m):\n",
    "            for j in range(n):\n",
    "                if dataMat[i,j] > 0:\n",
    "                    error = 0.0\n",
    "                    for k in range(K):\n",
    "                        error = error + p[i,k]*q[k,j]\n",
    "                    loss = (dataMat[i,j] - error) * (dataMat[i,j] - error)\n",
    "                    for k in range(K):\n",
    "                        loss = loss + beta * (p[i,k] * p[i,k] + q[k,j] * q[k,j]) / 2\n",
    "        \n",
    "        ls.append(loss)\n",
    "        \n",
    "        if loss < 0.001:\n",
    "            break\n",
    "        \n",
    "        if step % 1000 == 0:\n",
    "            print (loss)\n",
    "\n",
    "    return p, q, ls\n"
   ]
  },
  {
   "cell_type": "code",
   "execution_count": 7,
   "metadata": {},
   "outputs": [
    {
     "name": "stdout",
     "output_type": "stream",
     "text": [
      "8.76769353851\n",
      "0.119781626714\n",
      "0.117045337725\n",
      "0.0974565504823\n",
      "0.0918859407938\n",
      "0.0890745385674\n",
      "0.0873551626716\n",
      "0.0862529274142\n",
      "0.0855289584817\n",
      "0.0850394992894\n",
      "[[ 4.97847075  2.97887144  4.49783735  1.00243672]\n",
      " [ 3.97965482  2.13356094  3.36219521  0.99966857]\n",
      " [ 1.01512821  0.95888528  5.72972767  4.96969856]\n",
      " [ 0.99364462  1.06566947  5.03414791  3.98122399]\n",
      " [ 1.19231168  1.04969608  4.97119492  3.99921767]]\n"
     ]
    }
   ],
   "source": [
    "if __name__ == \"__main__\":\n",
    "    p, q, ls= gradAscent(R, 3)\n",
    "    result = p*q\n",
    "    print(result)"
   ]
  },
  {
   "cell_type": "code",
   "execution_count": 8,
   "metadata": {},
   "outputs": [
    {
     "data": {
      "text/plain": [
       "<matplotlib.text.Text at 0x1197656d8>"
      ]
     },
     "execution_count": 8,
     "metadata": {},
     "output_type": "execute_result"
    },
    {
     "data": {
      "image/png": "[encoded data removed]",
      "text/plain": [
       "<matplotlib.figure.Figure at 0x11844ec18>"
      ]
     },
     "metadata": {},
     "output_type": "display_data"
    }
   ],
   "source": [
    "import matplotlib.pyplot as plt\n",
    "import numpy as np\n",
    "%matplotlib inline\n",
    "\n",
    "n=len(ls)\n",
    "x=range(n)\n",
    "plt.plot(x, ls, color='r',linewidth=3)\n",
    "plt.title('Convergence curve')\n",
    "plt.xlabel('generation')\n",
    "plt.ylabel('loss')\n"
   ]
  }
 ],
 "metadata": {
  "kernelspec": {
   "display_name": "Python 3",
   "language": "python",
   "name": "python3"
  },
  "language_info": {
   "codemirror_mode": {
    "name": "ipython",
    "version": 3
   },
   "file_extension": ".py",
   "mimetype": "text/x-python",
   "name": "python",
   "nbconvert_exporter": "python",
   "pygments_lexer": "ipython3",
   "version": "3.5.1"
  }
 },
 "nbformat": 4,
 "nbformat_minor": 2
}
