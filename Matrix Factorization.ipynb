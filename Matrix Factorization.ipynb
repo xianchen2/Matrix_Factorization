{
 "cells": [
  {
   "cell_type": "code",
   "execution_count": 1,
   "metadata": {},
   "outputs": [],
   "source": [
    "from numpy import *"
   ]
  },
  {
   "cell_type": "markdown",
   "metadata": {},
   "source": [
    "# With Biases"
   ]
  },
  {
   "cell_type": "code",
   "execution_count": 14,
   "metadata": {},
   "outputs": [],
   "source": [
    "def gradAscent(data,K,alpha,beta,maxCycles):\n",
    "    R=mat(data)\n",
    "    m,n=shape(R)\n",
    "    \n",
    "#   initialize user and item latent feature matrix\n",
    "    p=mat(random.random((m,K)))\n",
    "    q=mat(random.random((K,n)))\n",
    "    \n",
    "#   initialize the bisases\n",
    "    bu=zeros(m)\n",
    "    bd=zeros(n)\n",
    "    b=mean(R[where(R!=0)])\n",
    "    \n",
    "#   stochastic gradient descent\n",
    "    ls=[]\n",
    "    for step in range(maxCycles):\n",
    "        for i in range(m):\n",
    "            for j in range(n):\n",
    "                if R[i,j] >0:\n",
    "                    r=R[i,j]\n",
    "                    pq=0.0\n",
    "                    for k in range(K):\n",
    "                        pq+=p[i,k]*q[k,j]\n",
    "                    e = r-b-bu[i]-bd[j]-pq\n",
    "#                   Update user and item latent feature matrix\n",
    "                    bu[i] = bu[i] + alpha*(2*e-beta*bu[i])\n",
    "                    bd[j] = bd[j] + alpha*(2*e-beta*bd[j])\n",
    "#                   Update biases\n",
    "                    for k in range(K):\n",
    "                        p[i,k] += alpha*(2*e*q[k,j]-beta*p[i,k])\n",
    "                        q[k,j] += alpha*(2*e*p[i,k]-beta*q[k,j])    \n",
    "\n",
    "#       calculate loss         \n",
    "        loss=0.0\n",
    "        for i in range(m):\n",
    "            for j in range(n):\n",
    "                bb=0.0\n",
    "                dd=0.0\n",
    "                pq2=0.0\n",
    "                pq=0\n",
    "                if R[i,j] > 0:\n",
    "                    r=R[i,j]\n",
    "                    bb +=bu[i]**2\n",
    "                    dd +=bd[j]**2\n",
    "                    for k in range(K):\n",
    "                        pq2 +=p[i,k]**2+q[k,j]**2\n",
    "                        pq +=p[i,k]*q[k,j]\n",
    "                    \n",
    "                    loss=(r-b-bu[i]-bd[j]-pq)**2+beta*(bb+dd+pq2)/2\n",
    "\n",
    "        ls.append(loss)\n",
    "\n",
    "        if loss<0.0001:\n",
    "            break\n",
    "        if step %1000==0:\n",
    "            print(loss)\n",
    "    \n",
    "    return p,q,b,bu,bd,ls"
   ]
  },
  {
   "cell_type": "code",
   "execution_count": 17,
   "metadata": {},
   "outputs": [],
   "source": [
    "R = mat([\n",
    "    [5, 3, 0, 1],\n",
    "    [4, 0, 0, 1],\n",
    "    [1, 1, 0, 5],\n",
    "    [1, 0, 0, 4],\n",
    "    [0, 1, 5, 4]])\n"
   ]
  },
  {
   "cell_type": "code",
   "execution_count": 18,
   "metadata": {},
   "outputs": [
    {
     "name": "stdout",
     "output_type": "stream",
     "text": [
      "0.0668952009623\n",
      "0.296189989298\n",
      "0.105301005732\n",
      "0.0659848391101\n",
      "0.0624522864942\n",
      "0.0621292614254\n",
      "0.0620394884752\n",
      "0.0619061379123\n",
      "0.0617155745566\n",
      "0.0614819148796\n",
      "[[ 4.98867951  2.98696237  3.94425779  1.01603556]\n",
      " [ 3.98756384  1.74517227  3.89969156  1.01036391]\n",
      " [ 1.01215495  0.99139678  3.86373067  4.98047537]\n",
      " [ 1.00839652  0.84674668  3.44559305  3.99453561]\n",
      " [ 2.70069711  1.02845366  4.987411    3.99198619]]\n"
     ]
    }
   ],
   "source": [
    "if __name__ == \"__main__\":\n",
    "    p, q, b, bu, bd, ls = gradAscent(R,3,0.0002,0.02,10000)\n",
    "    \n",
    "    m,n=shape(R)\n",
    "    \n",
    "    bu=list(bu.reshape(m,1))\n",
    "    bu=broadcast_to(bu,(m,n))\n",
    "    \n",
    "    bd=broadcast_to(bd,(m,n))\n",
    "    \n",
    "    result = b+bu+bd+p*q\n",
    "    \n",
    "    print(result)"
   ]
  },
  {
   "cell_type": "code",
   "execution_count": 19,
   "metadata": {
    "scrolled": false
   },
   "outputs": [
    {
     "data": {
      "text/plain": [
       "<matplotlib.text.Text at 0x1198ca668>"
      ]
     },
     "execution_count": 19,
     "metadata": {},
     "output_type": "execute_result"
    },
    {
     "data": {
      "image/png": "[encoded data removed]",
      "text/plain": [
       "<matplotlib.figure.Figure at 0x119a0b320>"
      ]
     },
     "metadata": {},
     "output_type": "display_data"
    }
   ],
   "source": [
    "import matplotlib.pyplot as plt\n",
    "%matplotlib inline\n",
    "\n",
    "plt.plot(range(len(ls)), ls, color='r',linewidth=3)\n",
    "plt.title('Convergence curve')\n",
    "plt.xlabel('generation')\n",
    "plt.ylabel('loss')\n"
   ]
  },
  {
   "cell_type": "markdown",
   "metadata": {},
   "source": [
    "# Without biases"
   ]
  },
  {
   "cell_type": "code",
   "execution_count": 6,
   "metadata": {},
   "outputs": [],
   "source": [
    "def gradAscent(data, K,alpha,beta,maxCycles):\n",
    "    dataMat = mat(data)\n",
    "    m, n = shape(dataMat)\n",
    "    p = mat(random.random((m, K)))\n",
    "    q = mat(random.random((K, n)))\n",
    "\n",
    "    ls=[]\n",
    "    for step in range(maxCycles):\n",
    "        for i in range(m):\n",
    "            for j in range(n):\n",
    "                if dataMat[i,j] > 0:\n",
    "                    error = dataMat[i,j]\n",
    "                    for k in range(K):\n",
    "                        error = error - p[i,k]*q[k,j]\n",
    "                    for k in range(K):\n",
    "                        p[i,k] = p[i,k] + alpha * (2 * error * q[k,j] - beta * p[i,k])\n",
    "                        q[k,j] = q[k,j] + alpha * (2 * error * p[i,k] - beta * q[k,j])\n",
    "\n",
    "        loss = 0.0\n",
    "        for i in range(m):\n",
    "            for j in range(n):\n",
    "                if dataMat[i,j] > 0:\n",
    "                    error = 0.0\n",
    "                    for k in range(K):\n",
    "                        error = error + p[i,k]*q[k,j]\n",
    "                    loss = (dataMat[i,j] - error) * (dataMat[i,j] - error)\n",
    "                    for k in range(K):\n",
    "                        loss = loss + beta * (p[i,k] * p[i,k] + q[k,j] * q[k,j]) / 2\n",
    "        \n",
    "        ls.append(loss)\n",
    "        \n",
    "        if loss < 0.001:\n",
    "            break\n",
    "        \n",
    "        if step % 1000 == 0:\n",
    "            print (loss)\n",
    "\n",
    "    return p, q, ls\n"
   ]
  },
  {
   "cell_type": "code",
   "execution_count": 7,
   "metadata": {
    "scrolled": true
   },
   "outputs": [
    {
     "name": "stdout",
     "output_type": "stream",
     "text": [
      "8.76769353851\n",
      "0.119781626714\n",
      "0.117045337725\n",
      "0.0974565504823\n",
      "0.0918859407938\n",
      "0.0890745385674\n",
      "0.0873551626716\n",
      "0.0862529274142\n",
      "0.0855289584817\n",
      "0.0850394992894\n",
      "[[ 4.97847075  2.97887144  4.49783735  1.00243672]\n",
      " [ 3.97965482  2.13356094  3.36219521  0.99966857]\n",
      " [ 1.01512821  0.95888528  5.72972767  4.96969856]\n",
      " [ 0.99364462  1.06566947  5.03414791  3.98122399]\n",
      " [ 1.19231168  1.04969608  4.97119492  3.99921767]]\n"
     ]
    }
   ],
   "source": [
    "if __name__ == \"__main__\":\n",
    "    p, q, ls= gradAscent(R, 3,0.0002,0.02,10000)\n",
    "    result = p*q\n",
    "    print(result)"
   ]
  },
  {
   "cell_type": "code",
   "execution_count": 8,
   "metadata": {},
   "outputs": [
    {
     "data": {
      "text/plain": [
       "<matplotlib.text.Text at 0x1197656d8>"
      ]
     },
     "execution_count": 8,
     "metadata": {},
     "output_type": "execute_result"
    },
    {
     "data": {
      "image/png": "[encoded data removed]",
      "text/plain": [
       "<matplotlib.figure.Figure at 0x11844ec18>"
      ]
     },
     "metadata": {},
     "output_type": "display_data"
    }
   ],
   "source": [
    "import matplotlib.pyplot as plt\n",
    "import numpy as np\n",
    "%matplotlib inline\n",
    "\n",
    "plt.plot(range(len(ls)), ls, color='r',linewidth=3)\n",
    "plt.title('Convergence curve')\n",
    "plt.xlabel('generation')\n",
    "plt.ylabel('loss')\n"
   ]
  }
 ],
 "metadata": {
  "kernelspec": {
   "display_name": "Python 3",
   "language": "python",
   "name": "python3"
  },
  "language_info": {
   "codemirror_mode": {
    "name": "ipython",
    "version": 3
   },
   "file_extension": ".py",
   "mimetype": "text/x-python",
   "name": "python",
   "nbconvert_exporter": "python",
   "pygments_lexer": "ipython3",
   "version": "3.5.1"
  }
 },
 "nbformat": 4,
 "nbformat_minor": 2
}
